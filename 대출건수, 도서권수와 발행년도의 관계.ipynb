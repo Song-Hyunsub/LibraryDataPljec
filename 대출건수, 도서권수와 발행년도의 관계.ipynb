{
 "cells": [
  {
   "cell_type": "markdown",
   "id": "c0a2da43-01ed-4725-ba1c-44e5f89836e3",
   "metadata": {},
   "source": [
    "## (1) 대출건수가 0건인 책의 권 수"
   ]
  },
  {
   "cell_type": "code",
   "execution_count": 3,
   "id": "1ecd6117-82df-4581-9eae-dc8e781280e9",
   "metadata": {},
   "outputs": [
    {
     "name": "stderr",
     "output_type": "stream",
     "text": [
      "C:\\Users\\shs21\\AppData\\Local\\Temp\\ipykernel_13764\\191679494.py:2: DtypeWarning: Columns (5,7) have mixed types. Specify dtype option on import or set low_memory=False.\n",
      "  lib = pd.read_csv('2023_01.csv')\n",
      "C:\\Users\\shs21\\AppData\\Local\\Temp\\ipykernel_13764\\191679494.py:3: DtypeWarning: Columns (5,7) have mixed types. Specify dtype option on import or set low_memory=False.\n",
      "  lib1 = pd.read_csv('2023_01.csv')\n",
      "C:\\Users\\shs21\\AppData\\Local\\Temp\\ipykernel_13764\\191679494.py:4: DtypeWarning: Columns (5,7) have mixed types. Specify dtype option on import or set low_memory=False.\n",
      "  lib2 = pd.read_csv('2023_02.csv')\n",
      "C:\\Users\\shs21\\AppData\\Local\\Temp\\ipykernel_13764\\191679494.py:5: DtypeWarning: Columns (5,7) have mixed types. Specify dtype option on import or set low_memory=False.\n",
      "  lib3 = pd.read_csv('2023_03.csv')\n",
      "C:\\Users\\shs21\\AppData\\Local\\Temp\\ipykernel_13764\\191679494.py:6: DtypeWarning: Columns (5,7) have mixed types. Specify dtype option on import or set low_memory=False.\n",
      "  lib4 = pd.read_csv('2023_04.csv')\n",
      "C:\\Users\\shs21\\AppData\\Local\\Temp\\ipykernel_13764\\191679494.py:7: DtypeWarning: Columns (5,7) have mixed types. Specify dtype option on import or set low_memory=False.\n",
      "  lib5 = pd.read_csv('2023_05.csv')\n",
      "C:\\Users\\shs21\\AppData\\Local\\Temp\\ipykernel_13764\\191679494.py:8: DtypeWarning: Columns (5,7) have mixed types. Specify dtype option on import or set low_memory=False.\n",
      "  lib6 = pd.read_csv('2023_06.csv')\n",
      "C:\\Users\\shs21\\AppData\\Local\\Temp\\ipykernel_13764\\191679494.py:9: DtypeWarning: Columns (5,7) have mixed types. Specify dtype option on import or set low_memory=False.\n",
      "  lib7 = pd.read_csv('2023_07.csv')\n",
      "C:\\Users\\shs21\\AppData\\Local\\Temp\\ipykernel_13764\\191679494.py:10: DtypeWarning: Columns (5,7) have mixed types. Specify dtype option on import or set low_memory=False.\n",
      "  lib8 = pd.read_csv('2023_08.csv')\n",
      "C:\\Users\\shs21\\AppData\\Local\\Temp\\ipykernel_13764\\191679494.py:11: DtypeWarning: Columns (5,7) have mixed types. Specify dtype option on import or set low_memory=False.\n",
      "  lib9 = pd.read_csv('2023_09.csv')\n",
      "C:\\Users\\shs21\\AppData\\Local\\Temp\\ipykernel_13764\\191679494.py:12: DtypeWarning: Columns (5,7) have mixed types. Specify dtype option on import or set low_memory=False.\n",
      "  lib10 = pd.read_csv('2023_10.csv')\n",
      "C:\\Users\\shs21\\AppData\\Local\\Temp\\ipykernel_13764\\191679494.py:13: DtypeWarning: Columns (5,7) have mixed types. Specify dtype option on import or set low_memory=False.\n",
      "  lib11 = pd.read_csv('2023_11.csv')\n",
      "C:\\Users\\shs21\\AppData\\Local\\Temp\\ipykernel_13764\\191679494.py:14: DtypeWarning: Columns (5,7) have mixed types. Specify dtype option on import or set low_memory=False.\n",
      "  lib12 = pd.read_csv('2023_12.csv')\n"
     ]
    },
    {
     "name": "stdout",
     "output_type": "stream",
     "text": [
      "대출 건수가 0인 책의 권 수: 52777\n"
     ]
    }
   ],
   "source": [
    "import pandas as pd\n",
    "lib = pd.read_csv('2023_01.csv')\n",
    "lib1 = pd.read_csv('2023_01.csv')\n",
    "lib2 = pd.read_csv('2023_02.csv')\n",
    "lib3 = pd.read_csv('2023_03.csv')\n",
    "lib4 = pd.read_csv('2023_04.csv')\n",
    "lib5 = pd.read_csv('2023_05.csv')\n",
    "lib6 = pd.read_csv('2023_06.csv')\n",
    "lib7 = pd.read_csv('2023_07.csv')\n",
    "lib8 = pd.read_csv('2023_08.csv')\n",
    "lib9 = pd.read_csv('2023_09.csv')\n",
    "lib10 = pd.read_csv('2023_10.csv')\n",
    "lib11 = pd.read_csv('2023_11.csv')\n",
    "lib12 = pd.read_csv('2023_12.csv')\n",
    "\n",
    "# 파일명을 기반으로 각각의 데이터프레임에 월 정보 추가\n",
    "lib1['월'] = '01'\n",
    "lib2['월'] = '02'\n",
    "lib3['월'] = '03'\n",
    "lib4['월'] = '04'\n",
    "lib5['월'] = '05'\n",
    "lib6['월'] = '06'\n",
    "lib7['월'] = '07'\n",
    "lib8['월'] = '08'\n",
    "lib9['월'] = '09'\n",
    "lib10['월'] = '10'\n",
    "lib11['월'] = '11'\n",
    "lib12['월'] = '12'\n",
    "\n",
    "# 리스트에 모든 데이터프레임을 넣기\n",
    "dataframes = [lib1, lib2, lib3, lib4, lib5, lib6, lib7, lib8, lib9, lib10, lib11, lib12]\n",
    "\n",
    "# concat 함수를 사용하여 모든 데이터프레임을 하나로 결합\n",
    "combined_df = pd.concat(dataframes, ignore_index=True)\n",
    "\n",
    "# 주제분류번호를 문자열로 변환 후 100 단위로 잘라서 그룹화\n",
    "combined_df['주제분류번호'] = combined_df['주제분류번호'].astype(str)\n",
    "combined_df['주제분류그룹'] = combined_df['주제분류번호'].apply(lambda x: x.split('.')[0] if '.' in x else x)\n",
    "combined_df['주제분류그룹'] = combined_df['주제분류그룹'].apply(lambda x: x[:1] + '00')\n",
    "\n",
    "# 주제분류그룹별로 가장 대출이 많은 책 Top 10을 찾기 (책 제목 + 출판사 기준)\n",
    "top10_books_by_category = {}\n",
    "\n",
    "for group, group_df in combined_df.groupby('주제분류그룹'):\n",
    "    top10_books = group_df.groupby(['도서명', '출판사'])['대출건수'].sum().sort_values(ascending=False).head(10)\n",
    "    top10_books_by_category[group] = top10_books\n",
    "\n",
    "# 책 제목과 출판사를 기준으로 그룹화하여 대출건수 합산\n",
    "grouped_books = combined_df.groupby(['도서명', '출판사'])['대출건수'].sum()\n",
    "\n",
    "# 대출건수가 0인 경우를 필터링하여 해당하는 행의 수를 계산\n",
    "zero_loan_count = (grouped_books == 0).sum()\n",
    "\n",
    "# 결과 출력\n",
    "print(f\"대출 건수가 0인 책의 권 수: {zero_loan_count}\")"
   ]
  },
  {
   "cell_type": "markdown",
   "id": "3a0f4fea-522d-4efd-bf26-0e48581b82b3",
   "metadata": {},
   "source": [
    "## (2) 발행년도와 대출건수의 관계 살펴보기"
   ]
  },
  {
   "cell_type": "code",
   "execution_count": 80,
   "id": "1a95b0c0-69b7-47a5-ba74-af2bfccd3043",
   "metadata": {},
   "outputs": [
    {
     "name": "stdout",
     "output_type": "stream",
     "text": [
      "발행년도\n",
      "2008.0    4466509.0\n",
      "2010.0    4299500.0\n",
      "2011.0    4296596.0\n",
      "2009.0    4114291.0\n",
      "2007.0    4085844.0\n",
      "            ...    \n",
      "1973.0         24.0\n",
      "2024.0          1.0\n",
      "1959.0          0.0\n",
      "1953.0          0.0\n",
      "1937.0          0.0\n",
      "Name: 대출건수, Length: 67, dtype: float64\n"
     ]
    }
   ],
   "source": [
    "# 발행년도를 정수형으로 변환 (불가능한 경우 NaN으로 변환)\n",
    "combined_df['발행년도'] = pd.to_numeric(combined_df['발행년도'], errors='coerce')\n",
    "\n",
    "# 8자리 발행년도 처리: 앞 4자리만 발행년도로 취급\n",
    "combined_df['발행년도'] = combined_df['발행년도'].apply(lambda x: int(str(int(x))[:4]) if pd.notna(x) and len(str(int(x))) == 8 else x)\n",
    "\n",
    "# 발행년도가 정수이고, 3자리 이하가 아닌 경우만 필터링\n",
    "filtered_df = combined_df[(combined_df['발행년도'] >= 1000) & (combined_df['발행년도'] < 10000)]\n",
    "\n",
    "# 발행년도별로 그룹화하여 총 대출건수를 합산\n",
    "loan_count_by_year = filtered_df.groupby('발행년도')['대출건수'].sum()\n",
    "\n",
    "# 대출건수가 많은 순으로 정렬\n",
    "loan_count_by_year_sorted = loan_count_by_year.sort_values(ascending=False)\n",
    "\n",
    "# 출력하기\n",
    "print(loan_count_by_year_sorted)"
   ]
  },
  {
   "cell_type": "markdown",
   "id": "ca5204b0-b40b-4013-a6ff-dd2e204a7b62",
   "metadata": {},
   "source": [
    "## (3) 대출건수가 0인 발행년도 출력"
   ]
  },
  {
   "cell_type": "code",
   "execution_count": 52,
   "id": "56d13f17-6252-4389-b305-8eab060bc2b6",
   "metadata": {},
   "outputs": [
    {
     "name": "stdout",
     "output_type": "stream",
     "text": [
      "발행년도\n",
      "1937.0    0.0\n",
      "1953.0    0.0\n",
      "1959.0    0.0\n",
      "Name: 대출건수, dtype: float64\n"
     ]
    }
   ],
   "source": [
    "# 대출건수가 0인 발행년도 필터링\n",
    "zero_loan_years = loan_count_by_year[loan_count_by_year == 0]\n",
    "\n",
    "# 결과 출력\n",
    "print(zero_loan_years)"
   ]
  },
  {
   "cell_type": "markdown",
   "id": "866c329f-96c2-463b-8596-a44dd752c975",
   "metadata": {},
   "source": [
    "## (4) 대출건수가 적은 순으로 발행년도 출력"
   ]
  },
  {
   "cell_type": "code",
   "execution_count": 86,
   "id": "2945772a-545a-4dfd-9866-0566bcb05fdd",
   "metadata": {},
   "outputs": [
    {
     "name": "stdout",
     "output_type": "stream",
     "text": [
      "발행년도\n",
      "1937.0          0.0\n",
      "1953.0          0.0\n",
      "1959.0          0.0\n",
      "2024.0          1.0\n",
      "1973.0         24.0\n",
      "            ...    \n",
      "2007.0    4085844.0\n",
      "2009.0    4114291.0\n",
      "2011.0    4296596.0\n",
      "2010.0    4299500.0\n",
      "2008.0    4466509.0\n",
      "Name: 대출건수, Length: 67, dtype: float64\n"
     ]
    }
   ],
   "source": [
    "# 발행년도별로 그룹화하여 총 대출건수를 합산\n",
    "loan_count_by_year = filtered_df.groupby('발행년도')['대출건수'].sum()\n",
    "\n",
    "# 대출건수가 적은 순으로 전체 데이터를 정렬\n",
    "loan_count_by_year_sorted = loan_count_by_year.sort_values(ascending=True)\n",
    "\n",
    "# 결과 출력\n",
    "print(loan_count_by_year_sorted)"
   ]
  },
  {
   "cell_type": "markdown",
   "id": "91d64dac-adeb-4673-9ef6-c095ab4feda1",
   "metadata": {},
   "source": [
    "## (5) 발행년도와 도서권수의 관계 살펴보기"
   ]
  },
  {
   "cell_type": "code",
   "execution_count": 103,
   "id": "6fc23796-63bc-496a-9716-0e2608c0795b",
   "metadata": {},
   "outputs": [
    {
     "name": "stdout",
     "output_type": "stream",
     "text": [
      "발행년도\n",
      "2024.0         2.0\n",
      "1953.0        11.0\n",
      "1961.0        11.0\n",
      "1937.0        12.0\n",
      "2106.0        12.0\n",
      "            ...   \n",
      "2012.0    249969.0\n",
      "2008.0    252044.0\n",
      "2003.0    255031.0\n",
      "2011.0    257728.0\n",
      "2001.0    275350.0\n",
      "Name: 도서권수, Length: 67, dtype: float64\n"
     ]
    }
   ],
   "source": [
    "# 발행년도를 정수형으로 변환 (불가능한 경우 NaN으로 변환)\n",
    "combined_df['발행년도'] = pd.to_numeric(combined_df['발행년도'], errors='coerce')\n",
    "\n",
    "# 8자리 발행년도 처리: 앞 4자리만 발행년도로 취급\n",
    "combined_df['발행년도'] = combined_df['발행년도'].apply(lambda x: int(str(int(x))[:4]) if pd.notna(x) and len(str(int(x))) == 8 else x)\n",
    "\n",
    "# 발행년도가 정수이고, 3자리 이하가 아닌 경우만 필터링\n",
    "filtered_df2 = combined_df[(combined_df['발행년도'] >= 1000) & (combined_df['발행년도'] < 10000)]\n",
    "\n",
    "# 발행년도별로 그룹화하여 총 대출건수를 합산\n",
    "loan_count_by_year2 = filtered_df2.groupby('발행년도')['도서권수'].sum()\n",
    "\n",
    "# 대출건수가 적은 순으로 정렬\n",
    "loan_count_by_year_sorted2 = loan_count_by_year2.sort_values(ascending=True)\n",
    "\n",
    "# 출력하기\n",
    "print(loan_count_by_year_sorted2)"
   ]
  },
  {
   "cell_type": "code",
   "execution_count": 105,
   "id": "21a7eb31-0420-4409-b1ea-06aa96ea17ca",
   "metadata": {},
   "outputs": [
    {
     "name": "stdout",
     "output_type": "stream",
     "text": [
      "발행년도\n",
      "2024.0       2.0\n",
      "1953.0      11.0\n",
      "1961.0      11.0\n",
      "1937.0      12.0\n",
      "2106.0      12.0\n",
      "2108.0      12.0\n",
      "1959.0      13.0\n",
      "1964.0      24.0\n",
      "1968.0      24.0\n",
      "1967.0      36.0\n",
      "1969.0      36.0\n",
      "1970.0      36.0\n",
      "1950.0      48.0\n",
      "1965.0      60.0\n",
      "1972.0      70.0\n",
      "1971.0      97.0\n",
      "1973.0     175.0\n",
      "1974.0     294.0\n",
      "1977.0     629.0\n",
      "1981.0    1669.0\n",
      "Name: 도서권수, dtype: float64\n"
     ]
    }
   ],
   "source": [
    "print(loan_count_by_year_sorted2.head(20))"
   ]
  },
  {
   "cell_type": "code",
   "execution_count": null,
   "id": "04c8e9cf-422b-4ee4-b2ce-eaf516cc9d42",
   "metadata": {},
   "outputs": [],
   "source": []
  }
 ],
 "metadata": {
  "kernelspec": {
   "display_name": "Python 3 (ipykernel)",
   "language": "python",
   "name": "python3"
  },
  "language_info": {
   "codemirror_mode": {
    "name": "ipython",
    "version": 3
   },
   "file_extension": ".py",
   "mimetype": "text/x-python",
   "name": "python",
   "nbconvert_exporter": "python",
   "pygments_lexer": "ipython3",
   "version": "3.12.4"
  }
 },
 "nbformat": 4,
 "nbformat_minor": 5
}
